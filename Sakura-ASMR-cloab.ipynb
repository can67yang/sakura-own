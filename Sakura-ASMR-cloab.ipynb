{
  "cells": [
    {
      "cell_type": "markdown",
      "metadata": {
        "id": "view-in-github",
        "colab_type": "text"
      },
      "source": [
        "<a href=\"https://colab.research.google.com/github/can67yang/sakura-own/blob/main/Sakura-ASMR-cloab.ipynb\" target=\"_parent\"><img src=\"https://colab.research.google.com/assets/colab-badge.svg\" alt=\"Open In Colab\"/></a>"
      ]
    },
    {
      "cell_type": "code",
      "execution_count": null,
      "metadata": {
        "id": "tvkI52m5DRsL"
      },
      "outputs": [],
      "source": [
        "#@title 初始化环境\n",
        "#@markdown 挂载Google网盘\n",
        "Mount_GDrive = True # @param {type:\"boolean\"}\n",
        "if Mount_GDrive:\n",
        "  from google.colab import drive\n",
        "\n",
        "  drive.mount('/content/gdrive')\n",
        "  ROOT_PATH = \"/content/gdrive/MyDrive\"\n",
        "else:\n",
        "  ROOT_PATH = \"/content\"\n",
        "!nvidia-smi"
      ]
    },
    {
      "cell_type": "code",
      "execution_count": null,
      "metadata": {
        "id": "gelzXVWEGxZw"
      },
      "outputs": [],
      "source": [
        "#@title 安装依赖\n",
        "%cd $ROOT_PATH\n",
        "!git clone https://github.com/SakuraLLM/SakuraLLM.git\n",
        "\n",
        "%cd SakuraLLM\n",
        "!git pull\n",
        "\n",
        "LLAMA_CPP = True # @param {type:\"boolean\"}\n",
        "VLLM = False # @param {type:\"boolean\"}\n",
        "if LLAMA_CPP:\n",
        "  !pip install \"diskcache>=5.6.1\"\n",
        "  !pip install llama-cpp-python -i https://abetlen.github.io/llama-cpp-python/whl/cu122\n",
        "if VLLM:\n",
        "  !pip install -U transformers tokenizers\n",
        "  !pip install vllm\n",
        "!pip install -q -r requirements.txt\n",
        "!pip install -q pyngrok"
      ]
    },
    {
      "cell_type": "code",
      "source": [
        "#@title 调用api\n",
        "from huggingface_hub import hf_hub_download\n",
        "from pyngrok import ngrok\n",
        "\n",
        "# 设置 ngrok authtoken（替换 <YOUR_AUTH_TOKEN> 为你的实际 ngrok authtoken）\n",
        "!ngrok authtoken 2aD0E5ADxy6miRBapzrwWTOu3j6_3Phqsv4LxCQwu7iVuxYgT\n",
        "\n",
        "# 启动 ngrok 隧道并连接到本地端口 8181\n",
        "public_url = ngrok.connect(8181)\n",
        "print(\"ngrok tunnel URL:\", public_url)\n",
        "\n",
        "repo_id = \"SakuraLLM/Sakura-14B-Qwen2.5-v1.0-GGUF\"\n",
        "MODEL = \"sakura-14b-qwen2.5-v1.0-q4km.gguf\" # @param [\"sakura-14b-qwen2.5-v1.0-iq4xs.gguf\", \"sakura-14b-qwen2.5-v1.0-q4km.gguf\", \"sakura-14b-qwen2.5-v1.0-q6k.gguf\"]\n",
        "hf_hub_download(repo_id=repo_id, filename=MODEL, local_dir=\"models/\")\n",
        "MODEL_PATH = f\"./models/{MODEL}\"\n",
        "\n",
        "%cd $ROOT_PATH/SakuraLLM\n",
        "!python server.py \\\n",
        "    --model_name_or_path $MODEL_PATH \\\n",
        "    --llama_cpp \\\n",
        "    --use_gpu \\\n",
        "    --model_version 1.0 \\\n",
        "    --trust_remote_code \\\n",
        "    --no-auth \\\n",
        "    --listen localhost:8181"
      ],
      "metadata": {
        "id": "i70G3Z5cHE1Q"
      },
      "execution_count": null,
      "outputs": []
    },
    {
      "cell_type": "code",
      "execution_count": null,
      "metadata": {
        "id": "S9gYbA1yMVND"
      },
      "outputs": [],
      "source": [
        "#@title 翻译文本文件\n",
        "from huggingface_hub import hf_hub_download\n",
        "\n",
        "repo_id = \"SakuraLLM/Sakura-14B-Qwen2beta-v0.9.2-GGUF\"\n",
        "MODEL = \"sakura-14b-qwen2beta-v0.9.2-q4km.gguf\" # @param [\"sakura-14b-qwen2beta-v0.9.2-iq4xs.gguf\", \"sakura-14b-qwen2beta-v0.9.2-q2k.gguf\", \"sakura-14b-qwen2beta-v0.9.2-q3km.gguf\", \"sakura-14b-qwen2beta-v0.9.2-q4km.gguf\", \"sakura-14b-qwen2beta-v0.9.2-q6k.gguf\"]\n",
        "hf_hub_download(repo_id=repo_id, filename=MODEL, local_dir=\"models/\")\n",
        "MODEL_PATH = f\"./models/{MODEL}\"\n",
        "DATA_PATH = \"novel.txt\" # @param {type:\"string\"}\n",
        "OUTPUT_PATH = \"novel_translated.txt\" # @param {type:\"string\"}\n",
        "\n",
        "%cd $ROOT_PATH/Sakura-13B-Galgame\n",
        "!python translate_novel.py \\\n",
        "    --model_name_or_path $MODEL_PATH \\\n",
        "    --llama_cpp \\\n",
        "    --use_gpu \\\n",
        "    --model_version 0.9 \\\n",
        "    --trust_remote_code \\\n",
        "    --data_path $DATA_PATH \\\n",
        "    --output_path $OUTPUT_PATH"
      ]
    }
  ],
  "metadata": {
    "colab": {
      "provenance": [],
      "include_colab_link": true
    },
    "kernelspec": {
      "display_name": "Python 3",
      "name": "python3"
    },
    "language_info": {
      "name": "python"
    }
  },
  "nbformat": 4,
  "nbformat_minor": 0
}
